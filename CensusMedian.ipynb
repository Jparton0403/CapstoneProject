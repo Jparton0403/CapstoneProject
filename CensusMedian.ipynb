{
 "cells": [
  {
   "cell_type": "code",
   "execution_count": 1,
   "id": "623d94fd-84cc-4e93-98b5-425f5a0066a8",
   "metadata": {
    "tags": []
   },
   "outputs": [
    {
     "ename": "ModuleNotFoundError",
     "evalue": "No module named 'pandas'",
     "output_type": "error",
     "traceback": [
      "\u001b[1;31m---------------------------------------------------------------------------\u001b[0m",
      "\u001b[1;31mModuleNotFoundError\u001b[0m                       Traceback (most recent call last)",
      "Cell \u001b[1;32mIn[1], line 1\u001b[0m\n\u001b[1;32m----> 1\u001b[0m \u001b[38;5;28;01mimport\u001b[39;00m \u001b[38;5;21;01mpandas\u001b[39;00m \u001b[38;5;28;01mas\u001b[39;00m \u001b[38;5;21;01mpd\u001b[39;00m\n\u001b[0;32m      3\u001b[0m \u001b[38;5;66;03m# Load the dataset\u001b[39;00m\n\u001b[0;32m      4\u001b[0m data \u001b[38;5;241m=\u001b[39m pd\u001b[38;5;241m.\u001b[39mread_csv(\u001b[38;5;124m'\u001b[39m\u001b[38;5;124mcensus_data.csv\u001b[39m\u001b[38;5;124m'\u001b[39m)\n",
      "\u001b[1;31mModuleNotFoundError\u001b[0m: No module named 'pandas'"
     ]
    }
   ],
   "source": [
    "import pandas as pd\n",
    "\n",
    "# Load the dataset\n",
    "data = pd.read_csv('census_data.csv')\n",
    "\n",
    "# Display initial information about the dataset\n",
    "print(\"Initial Data Info:\")\n",
    "print(data.info())\n",
    "\n",
    "# Check for missing values\n",
    "print(\"\\nMissing Values Before Imputation:\")\n",
    "print(data.isnull().sum())\n",
    "\n",
    "# Impute missing values\n",
    "# For numerical columns, use the median\n",
    "# For categorical columns, use the mode\n",
    "for column in data.columns:\n",
    "    if data[column].dtype == 'object':  # Categorical data\n",
    "        data[column] = data[column].fillna(data[column].mode()[0])\n",
    "    else:  # Numerical data\n",
    "        data[column] = data[column].fillna(data[column].median())\n",
    "\n",
    "# Check for missing values after imputation\n",
    "print(\"\\nMissing Values After Imputation:\")\n",
    "print(data.isnull().sum())\n",
    "\n",
    "# Save the processed dataset to a new CSV file if needed\n",
    "data.to_csv('census_data_cleaned.csv', index=False)"
   ]
  },
  {
   "cell_type": "code",
   "execution_count": null,
   "id": "8cbff4b1-e039-4f71-8a1b-cae75ec99ca3",
   "metadata": {},
   "outputs": [],
   "source": []
  }
 ],
 "metadata": {
  "kernelspec": {
   "display_name": "Python 3 (ipykernel)",
   "language": "python",
   "name": "python3"
  },
  "language_info": {
   "codemirror_mode": {
    "name": "ipython",
    "version": 3
   },
   "file_extension": ".py",
   "mimetype": "text/x-python",
   "name": "python",
   "nbconvert_exporter": "python",
   "pygments_lexer": "ipython3",
   "version": "3.11.5"
  }
 },
 "nbformat": 4,
 "nbformat_minor": 5
}
