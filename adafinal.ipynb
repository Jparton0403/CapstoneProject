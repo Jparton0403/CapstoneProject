{
 "cells": [
  {
   "cell_type": "code",
   "execution_count": 18,
   "id": "c0b15473-dc1a-42eb-84c1-5ca8ae5341b5",
   "metadata": {
    "tags": []
   },
   "outputs": [
    {
     "name": "stderr",
     "output_type": "stream",
     "text": [
      "C:\\Users\\Jcp45\\AppData\\Local\\Temp\\ipykernel_21176\\1784588249.py:66: SettingWithCopyWarning: \n",
      "A value is trying to be set on a copy of a slice from a DataFrame\n",
      "\n",
      "See the caveats in the documentation: https://pandas.pydata.org/pandas-docs/stable/user_guide/indexing.html#returning-a-view-versus-a-copy\n",
      "  features.fillna(features.mean(), inplace=True)\n"
     ]
    },
    {
     "name": "stdout",
     "output_type": "stream",
     "text": [
      "Mean Squared Error: 203998211.80980214\n"
     ]
    }
   ],
   "source": [
    "import pandas as pd\n",
    "import numpy as np\n",
    "import matplotlib.pyplot as plt\n",
    "import seaborn as sns\n",
    "from sklearn.model_selection import train_test_split\n",
    "from sklearn.ensemble import AdaBoostRegressor\n",
    "from sklearn.metrics import mean_squared_error\n",
    "from sklearn.tree import DecisionTreeRegressor\n",
    "\n",
    "# Load the datasets\n",
    "census_data = pd.read_csv('Census total.csv', low_memory=False)\n",
    "district_data = pd.read_csv('updated_districts_cleaned.csv', low_memory=False)\n",
    "\n",
    "# Ensure 'Census Tract' column is a string in both datasets\n",
    "census_data['Census Tract'] = census_data['Census Tract'].astype(str)\n",
    "district_data['Census Tract'] = district_data['Census Tract'].astype(str)\n",
    "\n",
    "# Convert 'year' column to integer\n",
    "census_data['year'] = pd.to_numeric(census_data['year'], errors='coerce').astype('Int64')\n",
    "\n",
    "# Splitting the census data based on the year\n",
    "pre_2020_data = census_data[census_data['year'] < 2020]\n",
    "post_2020_data = census_data[census_data['year'] >= 2020]\n",
    "\n",
    "# Merging the pre-2020 data with old district information\n",
    "pre_2020_data = pd.merge(pre_2020_data, district_data[['Census Tract', 'Old District']], \n",
    "                         on='Census Tract', how='left')\n",
    "pre_2020_data.rename(columns={'Old District': 'District'}, inplace=True)\n",
    "\n",
    "# Merging the 2020-2021 data with new district information\n",
    "post_2020_data = pd.merge(post_2020_data, district_data[['Census Tract', 'new district']], \n",
    "                          on='Census Tract', how='left')\n",
    "post_2020_data.rename(columns={'new district': 'District'}, inplace=True)\n",
    "\n",
    "# Combine the datasets\n",
    "combined_data = pd.concat([pre_2020_data, post_2020_data])\n",
    "\n",
    "# Convert 'Median income (dollars)' to numeric\n",
    "combined_data['Median income (dollars)'] = pd.to_numeric(combined_data['Median income (dollars)'], errors='coerce')\n",
    "\n",
    "# Define and process race columns\n",
    "race_columns = ['White alone', 'Black or African American alone', 'Asian alone', \n",
    "                'American Indian and Alaska Native alone', 'Native Hawaiian and Other Pacific Islander alone', \n",
    "                'Some other race alone', 'Two or more races']\n",
    "for col in race_columns:\n",
    "    combined_data[col] = pd.to_numeric(combined_data[col], errors='coerce').fillna(0)\n",
    "\n",
    "# Define age midpoints and calculate average age\n",
    "age_midpoints = {'Under 5 years': 2.5, '5 to 9 years': 7.5, '10 to 14 years': 12.5, '15 to 19 years': 17.5, \n",
    "                 '20 to 24 years': 22.5, '25 to 29 years': 27.5, '30 to 34 years': 32.5, '35 to 39 years': 37.5, \n",
    "                 '40 to 44 years': 42.5, '45 to 49 years': 47.5, '50 to 54 years': 52.5, '55 to 59 years': 57.5, \n",
    "                 '60 to 64 years': 62.5, '65 to 69 years': 67.5, '70 to 74 years': 72.5, '75 to 79 years': 77.5, \n",
    "                 '80 to 84 years': 82.5}\n",
    "for age_group in age_midpoints:\n",
    "    if age_group in combined_data.columns:\n",
    "        combined_data[age_group] = pd.to_numeric(combined_data[age_group], errors='coerce').fillna(0)\n",
    "combined_data['Total years'] = sum(combined_data[col] * age_midpoints[col] for col in age_midpoints if col in combined_data.columns)\n",
    "combined_data['Total Population'] = combined_data[[col for col in age_midpoints]].sum(axis=1)\n",
    "combined_data['Average Age'] = combined_data['Total years'] / combined_data['Total Population']\n",
    "#variables\n",
    "feature_columns = ['Average Age', 'Total Population'] + race_columns\n",
    "features = combined_data[feature_columns]\n",
    "target = combined_data['Median income (dollars)']\n",
    "\n",
    "# Handle missing values in features and target\n",
    "features.fillna(features.mean(), inplace=True)\n",
    "target.fillna(target.mean(), inplace=True)\n",
    "\n",
    "# Split the data into training and testing sets\n",
    "X_train, X_test, y_train, y_test = train_test_split(features, target, test_size=0.2, random_state=42)\n",
    "\n",
    "# Initialize AdaBoost Regressor\n",
    "ada_boost = AdaBoostRegressor(DecisionTreeRegressor(max_depth=4),\n",
    "                              n_estimators=100, random_state=42)\n",
    "\n",
    "# Train the model\n",
    "ada_boost.fit(X_train, y_train)\n",
    "\n",
    "# Make predictions\n",
    "y_pred = ada_boost.predict(X_test)\n",
    "\n",
    "# Evaluate the model\n",
    "mse = mean_squared_error(y_test, y_pred)\n",
    "print(\"Mean Squared Error:\", mse)\n"
   ]
  },
  {
   "cell_type": "code",
   "execution_count": null,
   "id": "2e5561e4-7a4a-4fc1-988c-2b47a93cd4d2",
   "metadata": {},
   "outputs": [],
   "source": []
  }
 ],
 "metadata": {
  "kernelspec": {
   "display_name": "Python 3 (ipykernel)",
   "language": "python",
   "name": "python3"
  },
  "language_info": {
   "codemirror_mode": {
    "name": "ipython",
    "version": 3
   },
   "file_extension": ".py",
   "mimetype": "text/x-python",
   "name": "python",
   "nbconvert_exporter": "python",
   "pygments_lexer": "ipython3",
   "version": "3.11.5"
  }
 },
 "nbformat": 4,
 "nbformat_minor": 5
}
