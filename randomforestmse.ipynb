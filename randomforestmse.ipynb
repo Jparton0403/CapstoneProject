{
 "cells": [
  {
   "cell_type": "code",
   "execution_count": 12,
   "id": "ae00c41b-b723-442d-b42c-a50159f65ab9",
   "metadata": {
    "tags": []
   },
   "outputs": [
    {
     "name": "stderr",
     "output_type": "stream",
     "text": [
      "C:\\Users\\Jcp45\\AppData\\Local\\Temp\\ipykernel_20640\\1781846648.py:8: DtypeWarning: Columns (1,2,32,33,34,35,36,37,38,39,40,41,42,43) have mixed types. Specify dtype option on import or set low_memory=False.\n",
      "  census_data = pd.read_csv('Census total.csv')\n",
      "C:\\Users\\Jcp45\\AppData\\Local\\Temp\\ipykernel_20640\\1781846648.py:50: SettingWithCopyWarning: \n",
      "A value is trying to be set on a copy of a slice from a DataFrame\n",
      "\n",
      "See the caveats in the documentation: https://pandas.pydata.org/pandas-docs/stable/user_guide/indexing.html#returning-a-view-versus-a-copy\n",
      "  features.fillna(features.mean(), inplace=True)\n",
      "C:\\Users\\Jcp45\\AppData\\Local\\Temp\\ipykernel_20640\\1781846648.py:51: FutureWarning: Series.fillna with 'method' is deprecated and will raise in a future version. Use obj.ffill() or obj.bfill() instead.\n",
      "  target.fillna(method='ffill', inplace=True)  # or another method as appropriate\n"
     ]
    },
    {
     "name": "stdout",
     "output_type": "stream",
     "text": [
      "Mean Squared Error: 5.453335766255624e-26\n",
      "R-squared: 1.0\n"
     ]
    }
   ],
   "source": [
    "import pandas as pd\n",
    "import numpy as np\n",
    "from sklearn.ensemble import RandomForestRegressor  \n",
    "from sklearn.model_selection import train_test_split\n",
    "from sklearn.metrics import mean_squared_error, r2_score\n",
    "\n",
    "# Load the datasets\n",
    "census_data = pd.read_csv('Census total.csv')\n",
    "district_data = pd.read_csv('updated_districts_cleaned.csv')\n",
    "\n",
    "# Process 'Census Tract' column and ensure 'year' is an integer\n",
    "census_data['Census Tract'] = census_data['Census Tract'].str.extract('(\\d+\\.?\\d*)')[0]\n",
    "census_data['year'] = pd.to_numeric(census_data['year'], errors='coerce').astype('Int64')\n",
    "district_data['Census Tract'] = district_data['Census Tract'].astype(str)\n",
    "\n",
    "# Merge the data\n",
    "combined_data = pd.merge(census_data, district_data, on='Census Tract', how='inner')\n",
    "\n",
    "# Convert 'Median income (dollars)' to numeric\n",
    "combined_data['Median income (dollars)'] = pd.to_numeric(combined_data['Median income (dollars)'], errors='coerce')\n",
    "\n",
    "# Define and process all race columns\n",
    "race_columns = ['White alone', 'Black or African American alone', 'Asian alone', \n",
    "                'American Indian and Alaska Native alone', 'Native Hawaiian and Other Pacific Islander alone', \n",
    "                'Some other race alone', 'Two or more races']\n",
    "for col in race_columns:\n",
    "    combined_data[col] = pd.to_numeric(combined_data[col], errors='coerce').fillna(0)\n",
    "\n",
    "# Define age midpoints and calculate average age\n",
    "age_midpoints = {\n",
    "    'Under 5 years': 2.5, '5 to 9 years': 7.5, '10 to 14 years': 12.5, '15 to 19 years': 17.5, \n",
    "    '20 to 24 years': 22.5, '25 to 29 years': 27.5, '30 to 34 years': 32.5, '35 to 39 years': 37.5, \n",
    "    '40 to 44 years': 42.5, '45 to 49 years': 47.5, '50 to 54 years': 52.5, '55 to 59 years': 57.5, \n",
    "    '60 to 64 years': 62.5, '65 to 69 years': 67.5, '70 to 74 years': 72.5, '75 to 79 years': 77.5, \n",
    "    '80 to 84 years': 82.5\n",
    "}\n",
    "\n",
    "for age_group in age_midpoints:\n",
    "    if age_group in combined_data.columns:\n",
    "        combined_data[age_group] = pd.to_numeric(combined_data[age_group], errors='coerce').fillna(0)\n",
    "\n",
    "combined_data['Total years'] = sum(combined_data[col] * age_midpoints[col] for col in age_midpoints if col in combined_data.columns)\n",
    "combined_data['Total Population'] = combined_data[[col for col in age_midpoints if col in combined_data.columns]].sum(axis=1)\n",
    "combined_data['Average Age'] = combined_data['Total years'] / combined_data['Total Population']\n",
    "\n",
    "features = combined_data[['Median income (dollars)', 'Average Age'] + race_columns]  \n",
    "target = combined_data['Average Age'] \n",
    "\n",
    "# Handling missing values if necessary\n",
    "features.fillna(features.mean(), inplace=True)\n",
    "target.fillna(method='ffill', inplace=True)  # or another method as appropriate\n",
    "\n",
    "# Split the data into training and testing sets\n",
    "X_train, X_test, y_train, y_test = train_test_split(features, target, test_size=0.2, random_state=42)\n",
    "\n",
    "# Create a Random Forest regression model\n",
    "rf_model = RandomForestRegressor(n_estimators=100, random_state=42)\n",
    "\n",
    "# Train the model\n",
    "rf_model.fit(X_train, y_train)\n",
    "\n",
    "# Make predictions\n",
    "y_pred = rf_model.predict(X_test)\n",
    "\n",
    "# Evaluate the model\n",
    "mse = mean_squared_error(y_test, y_pred)\n",
    "r2 = r2_score(y_test, y_pred)\n",
    "print(\"Mean Squared Error:\", mse)\n",
    "print(\"R-squared:\", r2)\n",
    "\n",
    "# Further analysis like feature importance, hyperparameter tuning, etc., can be added as per requirement.\n"
   ]
  },
  {
   "cell_type": "code",
   "execution_count": null,
   "id": "b80c529f-fce2-4755-8a5b-6c14755131e6",
   "metadata": {},
   "outputs": [],
   "source": []
  }
 ],
 "metadata": {
  "kernelspec": {
   "display_name": "Python 3 (ipykernel)",
   "language": "python",
   "name": "python3"
  },
  "language_info": {
   "codemirror_mode": {
    "name": "ipython",
    "version": 3
   },
   "file_extension": ".py",
   "mimetype": "text/x-python",
   "name": "python",
   "nbconvert_exporter": "python",
   "pygments_lexer": "ipython3",
   "version": "3.11.5"
  }
 },
 "nbformat": 4,
 "nbformat_minor": 5
}
