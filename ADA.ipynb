{
 "cells": [
  {
   "cell_type": "code",
   "execution_count": 1,
   "id": "76c7b156-a5ad-4321-8b23-f25ccdc77a74",
   "metadata": {
    "tags": []
   },
   "outputs": [
    {
     "name": "stderr",
     "output_type": "stream",
     "text": [
      "C:\\Users\\Jcp45\\miniconda3\\Lib\\site-packages\\sklearn\\ensemble\\_base.py:156: FutureWarning: `base_estimator` was renamed to `estimator` in version 1.2 and will be removed in 1.4.\n",
      "  warnings.warn(\n"
     ]
    },
    {
     "name": "stdout",
     "output_type": "stream",
     "text": [
      "Mean Squared Error (MSE): 0.151278038375316\n",
      "Root Mean Squared Error (RMSE): 0.3889447754827361\n",
      "Mean Absolute Error (MAE): 0.3217795709120849\n",
      "R-squared: 0.9864408868411487\n",
      "Explained Variance Score: 0.9864422439758719\n"
     ]
    }
   ],
   "source": [
    "import pandas as pd\n",
    "import numpy as np\n",
    "import matplotlib.pyplot as plt\n",
    "from sklearn.tree import DecisionTreeRegressor\n",
    "from sklearn.ensemble import RandomForestRegressor, AdaBoostRegressor\n",
    "from sklearn.model_selection import train_test_split, cross_val_score\n",
    "from sklearn.metrics import mean_squared_error, r2_score, mean_absolute_error, explained_variance_score\n",
    "\n",
    "# Load the datasets\n",
    "census_data = pd.read_csv('Census total.csv')\n",
    "district_data = pd.read_csv('updated_districts_cleaned.csv')\n",
    "\n",
    "# Process 'Census Tract' column and ensure 'year' is an integer\n",
    "census_data['Census Tract'] = census_data['Census Tract'].str.extract('(\\d+\\.?\\d*)')[0].astype(str)\n",
    "census_data['year'] = pd.to_numeric(census_data['year'], errors='coerce').astype('Int64')\n",
    "district_data['Census Tract'] = district_data['Census Tract'].astype(str)\n",
    "\n",
    "# Merge the data\n",
    "combined_data = pd.merge(census_data, district_data, on='Census Tract', how='inner')\n",
    "\n",
    "# Convert 'Median income (dollars)' to numeric and handle missing values\n",
    "combined_data['Median income (dollars)'] = pd.to_numeric(combined_data['Median income (dollars)'], errors='coerce').fillna(0)\n",
    "\n",
    "# Define and process all race columns\n",
    "race_columns = ['White alone', 'Black or African American alone', 'Asian alone', \n",
    "                'American Indian and Alaska Native alone', 'Native Hawaiian and Other Pacific Islander alone', \n",
    "                'Some other race alone', 'Two or more races']\n",
    "for col in race_columns:\n",
    "    combined_data[col] = pd.to_numeric(combined_data[col], errors='coerce').fillna(0)\n",
    "\n",
    "# Define age midpoints and calculate average age\n",
    "age_midpoints = {\n",
    "    'Under 5 years': 2.5, '5 to 9 years': 7.5, '10 to 14 years': 12.5, '15 to 19 years': 17.5, \n",
    "    '20 to 24 years': 22.5, '25 to 29 years': 27.5, '30 to 34 years': 32.5, '35 to 39 years': 37.5, \n",
    "    '40 to 44 years': 42.5, '45 to 49 years': 47.5, '50 to 54 years': 52.5, '55 to 59 years': 57.5, \n",
    "    '60 to 64 years': 62.5, '65 to 69 years': 67.5, '70 to 74 years': 72.5, '75 to 79 years': 77.5, \n",
    "    '80 to 84 years': 82.5\n",
    "}\n",
    "\n",
    "for age_group in age_midpoints:\n",
    "    if age_group in combined_data.columns:\n",
    "        combined_data[age_group] = pd.to_numeric(combined_data[age_group], errors='coerce').fillna(0)\n",
    "\n",
    "combined_data['Total years'] = sum(combined_data[col] * age_midpoints[col] for col in age_midpoints if col in combined_data.columns)\n",
    "combined_data['Total Population'] = combined_data[[col for col in age_midpoints if col in combined_data.columns]].sum(axis=1)\n",
    "combined_data['Average Age'] = combined_data['Total years'] / combined_data['Total Population']\n",
    "\n",
    "# Select features and target variable\n",
    "features = combined_data[['Median income (dollars)', 'Average Age'] + race_columns]  \n",
    "target = combined_data['Average Age']  \n",
    "# Split the data into training and testing sets\n",
    "X_train, X_test, y_train, y_test = train_test_split(features, target, test_size=0.2, random_state=42)\n",
    "\n",
    "# Using a simplified base estimator for AdaBoost\n",
    "base_estimator = DecisionTreeRegressor(max_depth=3)\n",
    "\n",
    "# Create an AdaBoost model with the simplified base estimator\n",
    "ada_model = AdaBoostRegressor(base_estimator=base_estimator, n_estimators=30, random_state=42)\n",
    "\n",
    "# Train the model\n",
    "ada_model.fit(X_train, y_train)\n",
    "\n",
    "# Predictions\n",
    "y_pred = ada_model.predict(X_test)\n",
    "\n",
    "# Metrics\n",
    "mse = mean_squared_error(y_test, y_pred)\n",
    "rmse = np.sqrt(mse)\n",
    "mae = mean_absolute_error(y_test, y_pred)\n",
    "r2 = r2_score(y_test, y_pred)\n",
    "explained_variance = explained_variance_score(y_test, y_pred)\n",
    "\n",
    "# Print metrics\n",
    "print(f\"Mean Squared Error (MSE): {mse}\")\n",
    "print(f\"Root Mean Squared Error (RMSE): {rmse}\")\n",
    "print(f\"Mean Absolute Error (MAE): {mae}\")\n",
    "print(f\"R-squared: {r2}\")\n",
    "print(f\"Explained Variance Score: {explained_variance}\")"
   ]
  },
  {
   "cell_type": "code",
   "execution_count": null,
   "id": "4b08fa40-619d-4f7b-a13c-60b5627abf74",
   "metadata": {},
   "outputs": [],
   "source": []
  }
 ],
 "metadata": {
  "kernelspec": {
   "display_name": "Python 3 (ipykernel)",
   "language": "python",
   "name": "python3"
  },
  "language_info": {
   "codemirror_mode": {
    "name": "ipython",
    "version": 3
   },
   "file_extension": ".py",
   "mimetype": "text/x-python",
   "name": "python",
   "nbconvert_exporter": "python",
   "pygments_lexer": "ipython3",
   "version": "3.11.5"
  }
 },
 "nbformat": 4,
 "nbformat_minor": 5
}
