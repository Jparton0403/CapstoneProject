{
 "cells": [
  {
   "cell_type": "code",
   "execution_count": 7,
   "id": "6b1df7c6-d62e-45af-8578-8d17591eedc8",
   "metadata": {
    "tags": []
   },
   "outputs": [
    {
     "name": "stderr",
     "output_type": "stream",
     "text": [
      "C:\\Users\\Jcp45\\miniconda3\\Lib\\site-packages\\IPython\\core\\interactiveshell.py:3466: FutureWarning: The `op` parameter is deprecated and will be removed in a future release. Please use the `predicate` parameter instead.\n",
      "  if await self.run_code(code, result, async_=asy):\n"
     ]
    }
   ],
   "source": [
    "import pandas as pd\n",
    "import geopandas as gpd\n",
    "from shapely.geometry import Point\n",
    "\n",
    "# Load the parcel data\n",
    "parcels_csv = 'Parcel_data.csv'  \n",
    "parcels_data = pd.read_csv(parcels_csv)\n",
    "\n",
    "# Convert parcel data to GeoDataFrame with Point geometry\n",
    "geometry = [Point(xy) for xy in zip(parcels_data['LONGITUDE'], parcels_data['LATITUDE'])]\n",
    "parcels_geo = gpd.GeoDataFrame(parcels_data, geometry=geometry)\n",
    "\n",
    "# Load the district shapefile\n",
    "districts_shapefile = 'Shapefile.shp'  # Replace with your shapefile path\n",
    "districts_geo = gpd.read_file(districts_shapefile)\n",
    "\n",
    "# Check and set CRS for districts data if necessary\n",
    "if districts_geo.crs is None:\n",
    "    districts_geo.set_crs(\"epsg:4326\", inplace=True)  # Replace \"epsg:4326\" with the correct CRS\n",
    "\n",
    "# Set the CRS for parcels data to match the districts data\n",
    "parcels_geo.set_crs(districts_geo.crs, inplace=True)\n",
    "\n",
    "# Ensure both GeoDataFrames use the same Coordinate Reference System (CRS)\n",
    "parcels_geo.set_crs(districts_geo.crs, inplace=True)\n",
    "\n",
    "# Perform spatial join to assign each parcel to a district\n",
    "joined_data = gpd.sjoin(parcels_geo, districts_geo, how=\"inner\", op='intersects')\n",
    "\n",
    "# Save the result to a new CSV file\n",
    "joined_data.to_csv('updated_parcels_with_districts.csv', index=False)\n"
   ]
  },
  {
   "cell_type": "code",
   "execution_count": null,
   "id": "207e4cc4-6f32-4ca4-832d-f162af58ea9e",
   "metadata": {},
   "outputs": [],
   "source": []
  }
 ],
 "metadata": {
  "kernelspec": {
   "display_name": "Python 3 (ipykernel)",
   "language": "python",
   "name": "python3"
  },
  "language_info": {
   "codemirror_mode": {
    "name": "ipython",
    "version": 3
   },
   "file_extension": ".py",
   "mimetype": "text/x-python",
   "name": "python",
   "nbconvert_exporter": "python",
   "pygments_lexer": "ipython3",
   "version": "3.11.5"
  }
 },
 "nbformat": 4,
 "nbformat_minor": 5
}
